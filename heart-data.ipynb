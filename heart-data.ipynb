{
 "cells": [
  {
   "cell_type": "markdown",
   "id": "c974a0e4",
   "metadata": {},
   "source": [
    "# Get a feel of the data using pandas"
   ]
  },
  {
   "cell_type": "code",
   "execution_count": 37,
   "id": "66ed0b32",
   "metadata": {},
   "outputs": [],
   "source": [
    "#!pip install pandas"
   ]
  },
  {
   "cell_type": "code",
   "execution_count": 38,
   "id": "2799cac9",
   "metadata": {},
   "outputs": [],
   "source": [
    "import pandas as pd"
   ]
  },
  {
   "cell_type": "code",
   "execution_count": 39,
   "id": "37074573",
   "metadata": {},
   "outputs": [],
   "source": [
    "file=pd.read_csv(\"D:\\RAHUL\\Bigdata\\Data-Modelling\\heart.csv\")"
   ]
  },
  {
   "cell_type": "code",
   "execution_count": 40,
   "id": "f1913ada",
   "metadata": {
    "scrolled": true
   },
   "outputs": [
    {
     "data": {
      "text/plain": [
       "age         0\n",
       "sex         0\n",
       "cp          0\n",
       "trestbps    0\n",
       "chol        0\n",
       "fbs         0\n",
       "restecg     0\n",
       "thalach     0\n",
       "exang       0\n",
       "oldpeak     0\n",
       "slope       0\n",
       "ca          0\n",
       "thal        0\n",
       "target      0\n",
       "dtype: int64"
      ]
     },
     "execution_count": 40,
     "metadata": {},
     "output_type": "execute_result"
    }
   ],
   "source": [
    "file.isnull().sum()"
   ]
  },
  {
   "cell_type": "code",
   "execution_count": 41,
   "id": "d722f5f8",
   "metadata": {},
   "outputs": [
    {
     "name": "stdout",
     "output_type": "stream",
     "text": [
      "<class 'pandas.core.frame.DataFrame'>\n",
      "RangeIndex: 1025 entries, 0 to 1024\n",
      "Data columns (total 14 columns):\n",
      " #   Column    Non-Null Count  Dtype  \n",
      "---  ------    --------------  -----  \n",
      " 0   age       1025 non-null   int64  \n",
      " 1   sex       1025 non-null   int64  \n",
      " 2   cp        1025 non-null   int64  \n",
      " 3   trestbps  1025 non-null   int64  \n",
      " 4   chol      1025 non-null   int64  \n",
      " 5   fbs       1025 non-null   int64  \n",
      " 6   restecg   1025 non-null   int64  \n",
      " 7   thalach   1025 non-null   int64  \n",
      " 8   exang     1025 non-null   int64  \n",
      " 9   oldpeak   1025 non-null   float64\n",
      " 10  slope     1025 non-null   int64  \n",
      " 11  ca        1025 non-null   int64  \n",
      " 12  thal      1025 non-null   int64  \n",
      " 13  target    1025 non-null   int64  \n",
      "dtypes: float64(1), int64(13)\n",
      "memory usage: 112.2 KB\n"
     ]
    }
   ],
   "source": [
    "file.info()"
   ]
  },
  {
   "cell_type": "code",
   "execution_count": 42,
   "id": "e31c1b7d",
   "metadata": {
    "scrolled": true
   },
   "outputs": [
    {
     "data": {
      "text/html": [
       "<div>\n",
       "<style scoped>\n",
       "    .dataframe tbody tr th:only-of-type {\n",
       "        vertical-align: middle;\n",
       "    }\n",
       "\n",
       "    .dataframe tbody tr th {\n",
       "        vertical-align: top;\n",
       "    }\n",
       "\n",
       "    .dataframe thead th {\n",
       "        text-align: right;\n",
       "    }\n",
       "</style>\n",
       "<table border=\"1\" class=\"dataframe\">\n",
       "  <thead>\n",
       "    <tr style=\"text-align: right;\">\n",
       "      <th></th>\n",
       "      <th>age</th>\n",
       "      <th>sex</th>\n",
       "      <th>cp</th>\n",
       "      <th>trestbps</th>\n",
       "      <th>chol</th>\n",
       "      <th>fbs</th>\n",
       "      <th>restecg</th>\n",
       "      <th>thalach</th>\n",
       "      <th>exang</th>\n",
       "      <th>oldpeak</th>\n",
       "      <th>slope</th>\n",
       "      <th>ca</th>\n",
       "      <th>thal</th>\n",
       "      <th>target</th>\n",
       "    </tr>\n",
       "  </thead>\n",
       "  <tbody>\n",
       "    <tr>\n",
       "      <th>count</th>\n",
       "      <td>1025.000000</td>\n",
       "      <td>1025.000000</td>\n",
       "      <td>1025.000000</td>\n",
       "      <td>1025.000000</td>\n",
       "      <td>1025.00000</td>\n",
       "      <td>1025.000000</td>\n",
       "      <td>1025.000000</td>\n",
       "      <td>1025.000000</td>\n",
       "      <td>1025.000000</td>\n",
       "      <td>1025.000000</td>\n",
       "      <td>1025.000000</td>\n",
       "      <td>1025.000000</td>\n",
       "      <td>1025.000000</td>\n",
       "      <td>1025.000000</td>\n",
       "    </tr>\n",
       "    <tr>\n",
       "      <th>mean</th>\n",
       "      <td>54.434146</td>\n",
       "      <td>0.695610</td>\n",
       "      <td>0.942439</td>\n",
       "      <td>131.611707</td>\n",
       "      <td>246.00000</td>\n",
       "      <td>0.149268</td>\n",
       "      <td>0.529756</td>\n",
       "      <td>149.114146</td>\n",
       "      <td>0.336585</td>\n",
       "      <td>1.071512</td>\n",
       "      <td>1.385366</td>\n",
       "      <td>0.754146</td>\n",
       "      <td>2.323902</td>\n",
       "      <td>0.513171</td>\n",
       "    </tr>\n",
       "    <tr>\n",
       "      <th>std</th>\n",
       "      <td>9.072290</td>\n",
       "      <td>0.460373</td>\n",
       "      <td>1.029641</td>\n",
       "      <td>17.516718</td>\n",
       "      <td>51.59251</td>\n",
       "      <td>0.356527</td>\n",
       "      <td>0.527878</td>\n",
       "      <td>23.005724</td>\n",
       "      <td>0.472772</td>\n",
       "      <td>1.175053</td>\n",
       "      <td>0.617755</td>\n",
       "      <td>1.030798</td>\n",
       "      <td>0.620660</td>\n",
       "      <td>0.500070</td>\n",
       "    </tr>\n",
       "    <tr>\n",
       "      <th>min</th>\n",
       "      <td>29.000000</td>\n",
       "      <td>0.000000</td>\n",
       "      <td>0.000000</td>\n",
       "      <td>94.000000</td>\n",
       "      <td>126.00000</td>\n",
       "      <td>0.000000</td>\n",
       "      <td>0.000000</td>\n",
       "      <td>71.000000</td>\n",
       "      <td>0.000000</td>\n",
       "      <td>0.000000</td>\n",
       "      <td>0.000000</td>\n",
       "      <td>0.000000</td>\n",
       "      <td>0.000000</td>\n",
       "      <td>0.000000</td>\n",
       "    </tr>\n",
       "    <tr>\n",
       "      <th>25%</th>\n",
       "      <td>48.000000</td>\n",
       "      <td>0.000000</td>\n",
       "      <td>0.000000</td>\n",
       "      <td>120.000000</td>\n",
       "      <td>211.00000</td>\n",
       "      <td>0.000000</td>\n",
       "      <td>0.000000</td>\n",
       "      <td>132.000000</td>\n",
       "      <td>0.000000</td>\n",
       "      <td>0.000000</td>\n",
       "      <td>1.000000</td>\n",
       "      <td>0.000000</td>\n",
       "      <td>2.000000</td>\n",
       "      <td>0.000000</td>\n",
       "    </tr>\n",
       "    <tr>\n",
       "      <th>50%</th>\n",
       "      <td>56.000000</td>\n",
       "      <td>1.000000</td>\n",
       "      <td>1.000000</td>\n",
       "      <td>130.000000</td>\n",
       "      <td>240.00000</td>\n",
       "      <td>0.000000</td>\n",
       "      <td>1.000000</td>\n",
       "      <td>152.000000</td>\n",
       "      <td>0.000000</td>\n",
       "      <td>0.800000</td>\n",
       "      <td>1.000000</td>\n",
       "      <td>0.000000</td>\n",
       "      <td>2.000000</td>\n",
       "      <td>1.000000</td>\n",
       "    </tr>\n",
       "    <tr>\n",
       "      <th>75%</th>\n",
       "      <td>61.000000</td>\n",
       "      <td>1.000000</td>\n",
       "      <td>2.000000</td>\n",
       "      <td>140.000000</td>\n",
       "      <td>275.00000</td>\n",
       "      <td>0.000000</td>\n",
       "      <td>1.000000</td>\n",
       "      <td>166.000000</td>\n",
       "      <td>1.000000</td>\n",
       "      <td>1.800000</td>\n",
       "      <td>2.000000</td>\n",
       "      <td>1.000000</td>\n",
       "      <td>3.000000</td>\n",
       "      <td>1.000000</td>\n",
       "    </tr>\n",
       "    <tr>\n",
       "      <th>max</th>\n",
       "      <td>77.000000</td>\n",
       "      <td>1.000000</td>\n",
       "      <td>3.000000</td>\n",
       "      <td>200.000000</td>\n",
       "      <td>564.00000</td>\n",
       "      <td>1.000000</td>\n",
       "      <td>2.000000</td>\n",
       "      <td>202.000000</td>\n",
       "      <td>1.000000</td>\n",
       "      <td>6.200000</td>\n",
       "      <td>2.000000</td>\n",
       "      <td>4.000000</td>\n",
       "      <td>3.000000</td>\n",
       "      <td>1.000000</td>\n",
       "    </tr>\n",
       "  </tbody>\n",
       "</table>\n",
       "</div>"
      ],
      "text/plain": [
       "               age          sex           cp     trestbps        chol  \\\n",
       "count  1025.000000  1025.000000  1025.000000  1025.000000  1025.00000   \n",
       "mean     54.434146     0.695610     0.942439   131.611707   246.00000   \n",
       "std       9.072290     0.460373     1.029641    17.516718    51.59251   \n",
       "min      29.000000     0.000000     0.000000    94.000000   126.00000   \n",
       "25%      48.000000     0.000000     0.000000   120.000000   211.00000   \n",
       "50%      56.000000     1.000000     1.000000   130.000000   240.00000   \n",
       "75%      61.000000     1.000000     2.000000   140.000000   275.00000   \n",
       "max      77.000000     1.000000     3.000000   200.000000   564.00000   \n",
       "\n",
       "               fbs      restecg      thalach        exang      oldpeak  \\\n",
       "count  1025.000000  1025.000000  1025.000000  1025.000000  1025.000000   \n",
       "mean      0.149268     0.529756   149.114146     0.336585     1.071512   \n",
       "std       0.356527     0.527878    23.005724     0.472772     1.175053   \n",
       "min       0.000000     0.000000    71.000000     0.000000     0.000000   \n",
       "25%       0.000000     0.000000   132.000000     0.000000     0.000000   \n",
       "50%       0.000000     1.000000   152.000000     0.000000     0.800000   \n",
       "75%       0.000000     1.000000   166.000000     1.000000     1.800000   \n",
       "max       1.000000     2.000000   202.000000     1.000000     6.200000   \n",
       "\n",
       "             slope           ca         thal       target  \n",
       "count  1025.000000  1025.000000  1025.000000  1025.000000  \n",
       "mean      1.385366     0.754146     2.323902     0.513171  \n",
       "std       0.617755     1.030798     0.620660     0.500070  \n",
       "min       0.000000     0.000000     0.000000     0.000000  \n",
       "25%       1.000000     0.000000     2.000000     0.000000  \n",
       "50%       1.000000     0.000000     2.000000     1.000000  \n",
       "75%       2.000000     1.000000     3.000000     1.000000  \n",
       "max       2.000000     4.000000     3.000000     1.000000  "
      ]
     },
     "execution_count": 42,
     "metadata": {},
     "output_type": "execute_result"
    }
   ],
   "source": [
    "file.describe()"
   ]
  },
  {
   "cell_type": "markdown",
   "id": "44fa0811",
   "metadata": {},
   "source": [
    "## Connect to the database and create the lookup tables"
   ]
  },
  {
   "cell_type": "code",
   "execution_count": 43,
   "id": "ffae4915",
   "metadata": {},
   "outputs": [],
   "source": [
    "import psycopg2 as ps"
   ]
  },
  {
   "cell_type": "code",
   "execution_count": 44,
   "id": "538d1c3a",
   "metadata": {},
   "outputs": [],
   "source": [
    "# establishing connection\n",
    "try:\n",
    "    conn = ps.connect(\"host=localhost dbname=datamodeldb user=postgres password=EnterPassword\")\n",
    "except ps.Error as e:\n",
    "    print(\"Error : There is some issue with the creds\")\n",
    "    print(e)"
   ]
  },
  {
   "cell_type": "code",
   "execution_count": 45,
   "id": "5ae15801",
   "metadata": {},
   "outputs": [],
   "source": [
    "# create the cursor\n",
    "try:\n",
    "    cur = conn.cursor()\n",
    "except ps.Error as e:\n",
    "    print(\"Error : could not create cursor to the database\")\n",
    "    print(e)\n",
    "    \n",
    "conn.set_session(autocommit=True)"
   ]
  },
  {
   "cell_type": "markdown",
   "id": "72d5d1c8",
   "metadata": {},
   "source": [
    "# Create the Fluoropsy look up table"
   ]
  },
  {
   "cell_type": "code",
   "execution_count": 46,
   "id": "f025d276",
   "metadata": {},
   "outputs": [],
   "source": [
    "try:\n",
    "    cur.execute(\"CREATE TABLE IF NOT EXISTS fluoropsy_table (vessels_colored int primary key, risk_found varchar(20) not null);\")\n",
    "except ps.Error as e:\n",
    "    print(\"Error : could not create the table\")\n",
    "    print(e)"
   ]
  },
  {
   "cell_type": "markdown",
   "id": "9830be42",
   "metadata": {},
   "source": [
    "# Create the end result look up table"
   ]
  },
  {
   "cell_type": "code",
   "execution_count": 47,
   "id": "6fc31b07",
   "metadata": {},
   "outputs": [],
   "source": [
    "try:\n",
    "    cur.execute(\"CREATE TABLE IF NOT EXISTS result_table (target int primary key, patient_heart_state varchar(15) not null);\")\n",
    "except ps.Error as e:\n",
    "    print(\"Error : could not create the table\")\n",
    "    print(e)"
   ]
  },
  {
   "cell_type": "markdown",
   "id": "6961fd14",
   "metadata": {},
   "source": [
    " # Create the thalassemia look up table"
   ]
  },
  {
   "cell_type": "code",
   "execution_count": 48,
   "id": "b77d8a8b",
   "metadata": {},
   "outputs": [],
   "source": [
    "try:\n",
    "    cur.execute(\"CREATE TABLE IF NOT EXISTS thalassemia_table (thal_value int primary key, defect_state varchar(20) not null);\")\n",
    "except ps.Error as e:\n",
    "    print(\"Error : could not create the table\")\n",
    "    print(e)"
   ]
  },
  {
   "cell_type": "markdown",
   "id": "7dbb5c38",
   "metadata": {},
   "source": [
    "# Create the chest_pain look up table "
   ]
  },
  {
   "cell_type": "code",
   "execution_count": 49,
   "id": "da19119c",
   "metadata": {},
   "outputs": [],
   "source": [
    "try:\n",
    "    cur.execute(\"CREATE TABLE IF NOT EXISTS chest_pain_table (pain_indicator int primary key, pain_level varchar(10) not null);\")\n",
    "except ps.Error as e:\n",
    "    print(\"Error : could not create the table\")\n",
    "    print(e)"
   ]
  },
  {
   "cell_type": "markdown",
   "id": "a025ba4e",
   "metadata": {},
   "source": [
    "# Create the main heart table"
   ]
  },
  {
   "cell_type": "code",
   "execution_count": 50,
   "id": "e4d89cae",
   "metadata": {},
   "outputs": [],
   "source": [
    "try:\n",
    "    cur.execute(\"CREATE TABLE IF NOT EXISTS heart (person_id BIGSERIAL primary key, age int not null, sex varchar(20) not null, \\\n",
    "    chest_pain int not null, rest_bp int not null, choles int not null, fast_sugar int not null, rest_ecg int not null, \\\n",
    "    mx_heart_rate int not null, ex_ind_angina int not null, old_peak int not null, slope_st int not null, fluoropsy int not null, \\\n",
    "    state_defect int not null, final_result int not null, foreign key(final_result) references result_table(target), foreign key(chest_pain) references chest_pain_table(pain_indicator), \\\n",
    "    foreign key(fluoropsy) references fluoropsy_table(vessels_colored), foreign key(state_defect) references thalassemia_table(thal_value));\")\n",
    "except ps.Error as e:\n",
    "    print(\"Error : could not create the table\")\n",
    "    print(e)"
   ]
  },
  {
   "cell_type": "markdown",
   "id": "3d6f8327",
   "metadata": {},
   "source": [
    "# Insert the data into the lookup and the main table"
   ]
  },
  {
   "cell_type": "code",
   "execution_count": 51,
   "id": "a3dd5142",
   "metadata": {},
   "outputs": [
    {
     "name": "stdout",
     "output_type": "stream",
     "text": [
      "Error : could not create the table\n",
      "duplicate key value violates unique constraint \"fluoropsy_table_pkey\"\n",
      "DETAIL:  Key (vessels_colored)=(0) already exists.\n",
      "\n"
     ]
    }
   ],
   "source": [
    "try:\n",
    "    cur.execute(\"insert into fluoropsy_table values \\\n",
    "    (0,'low risk'), \\\n",
    "    (1, 'medium risk'), \\\n",
    "    (2, 'high risk'), \\\n",
    "    (3, 'severe risk');\")\n",
    "except ps.Error as e:\n",
    "    print(\"Error : could not create the table\")\n",
    "    print(e)"
   ]
  },
  {
   "cell_type": "code",
   "execution_count": 52,
   "id": "ab4f47b2",
   "metadata": {},
   "outputs": [
    {
     "name": "stdout",
     "output_type": "stream",
     "text": [
      "Error : could not create the table\n",
      "duplicate key value violates unique constraint \"result_table_pkey\"\n",
      "DETAIL:  Key (target)=(0) already exists.\n",
      "\n"
     ]
    }
   ],
   "source": [
    "try:\n",
    "    cur.execute(\"insert into result_table values \\\n",
    "    (0,'no disease'), \\\n",
    "    (1, 'disease');\")\n",
    "except ps.Error as e:\n",
    "    print(\"Error : could not create the table\")\n",
    "    print(e)"
   ]
  },
  {
   "cell_type": "code",
   "execution_count": 53,
   "id": "ed79533d",
   "metadata": {},
   "outputs": [
    {
     "name": "stdout",
     "output_type": "stream",
     "text": [
      "Error : could not create the table\n",
      "duplicate key value violates unique constraint \"thalassemia_table_pkey\"\n",
      "DETAIL:  Key (thal_value)=(0) already exists.\n",
      "\n"
     ]
    }
   ],
   "source": [
    "try:\n",
    "    cur.execute(\"insert into thalassemia_table values \\\n",
    "    (0,'normal'), \\\n",
    "    (1, 'fixed defect'), \\\n",
    "    (2, 'reversible defect');\")\n",
    "except ps.Error as e:\n",
    "    print(\"Error : could not create the table\")\n",
    "    print(e)"
   ]
  },
  {
   "cell_type": "code",
   "execution_count": 54,
   "id": "84941178",
   "metadata": {},
   "outputs": [
    {
     "name": "stdout",
     "output_type": "stream",
     "text": [
      "Error : could not create the table\n",
      "duplicate key value violates unique constraint \"chest_pain_table_pkey\"\n",
      "DETAIL:  Key (pain_indicator)=(0) already exists.\n",
      "\n"
     ]
    }
   ],
   "source": [
    "try:\n",
    "    cur.execute(\"insert into chest_pain_table values \\\n",
    "    (0,'no pain'), \\\n",
    "    (1, 'low pain'), \\\n",
    "    (2, 'medium pain'), \\\n",
    "    (3, 'high pain');\")\n",
    "except ps.Error as e:\n",
    "    print(\"Error : could not create the table\")\n",
    "    print(e)"
   ]
  },
  {
   "cell_type": "code",
   "execution_count": 55,
   "id": "a0897cfa",
   "metadata": {},
   "outputs": [],
   "source": [
    "try:\n",
    "    cur.execute(\"COPY heart (age, sex, chest_pain, rest_bp, choles, fast_sugar, rest_ecg, \\\n",
    "    mx_heart_rate, ex_ind_angina, old_peak, slope_st, fluoropsy, state_defect, final_result) \\\n",
    "    FROM 'D:/RAHUL/Bigdata/Data-Modelling/heart.csv' DELIMITER ',' CSV HEADER;\")\n",
    "except ps.Error as e:\n",
    "    print(\"Error : could not create the table\")\n",
    "    print(e)"
   ]
  },
  {
   "cell_type": "code",
   "execution_count": 56,
   "id": "5e7d05a1",
   "metadata": {},
   "outputs": [
    {
     "name": "stdout",
     "output_type": "stream",
     "text": [
      "(0, 'no disease')\n",
      "(1, 'disease')\n"
     ]
    }
   ],
   "source": [
    "try:\n",
    "    cur.execute(\"select * from result_table;\")\n",
    "except ps.Error as e:\n",
    "    print(\"Error : could not insert the values\")\n",
    "    print(e)\n",
    "    \n",
    "row = cur.fetchone()\n",
    "while row:\n",
    "    print(row)\n",
    "    row = cur.fetchone()"
   ]
  },
  {
   "cell_type": "code",
   "execution_count": 57,
   "id": "9c47fa73",
   "metadata": {},
   "outputs": [
    {
     "name": "stdout",
     "output_type": "stream",
     "text": [
      "(3077, 52, '1', 0, 125, 212, 0, 1, 168, 0, 1.0, 2, 2, 3, 0)\n",
      "(3078, 53, '1', 0, 140, 203, 1, 0, 155, 1, 3.1, 0, 0, 3, 0)\n",
      "(3079, 70, '1', 0, 145, 174, 0, 1, 125, 1, 2.6, 0, 0, 3, 0)\n",
      "(3080, 61, '1', 0, 148, 203, 0, 1, 161, 0, 0.0, 2, 1, 3, 0)\n",
      "(3081, 62, '0', 0, 138, 294, 1, 1, 106, 0, 1.9, 1, 3, 2, 0)\n",
      "(3082, 58, '0', 0, 100, 248, 0, 0, 122, 0, 1.0, 1, 0, 2, 1)\n",
      "(3083, 58, '1', 0, 114, 318, 0, 2, 140, 0, 4.4, 0, 3, 1, 0)\n",
      "(3084, 55, '1', 0, 160, 289, 0, 0, 145, 1, 0.8, 1, 1, 3, 0)\n",
      "(3085, 46, '1', 0, 120, 249, 0, 0, 144, 0, 0.8, 2, 0, 3, 0)\n",
      "(3086, 54, '1', 0, 122, 286, 0, 0, 116, 1, 3.2, 1, 2, 2, 0)\n"
     ]
    }
   ],
   "source": [
    "try:\n",
    "    cur.execute(\"select * from heart limit 10;\")\n",
    "except ps.Error as e:\n",
    "    print(\"Error : could not insert the values\")\n",
    "    print(e)\n",
    "    \n",
    "row = cur.fetchone()\n",
    "while row:\n",
    "    print(row)\n",
    "    row = cur.fetchone()"
   ]
  },
  {
   "cell_type": "markdown",
   "id": "c35f3cbb",
   "metadata": {},
   "source": [
    "## lets create a table which shows patients with high risk of heart disease with certain conditions"
   ]
  },
  {
   "cell_type": "code",
   "execution_count": 58,
   "id": "c2272ee0",
   "metadata": {},
   "outputs": [],
   "source": [
    "try:\n",
    "    cur.execute(\"CREATE TABLE IF NOT EXISTS high_risk_patient_table (rest_bp int not null, cholestrol int not null, thal_value int not null);\")\n",
    "except ps.Error as e:\n",
    "    print(\"Error : could not create the table\")\n",
    "    print(e)"
   ]
  },
  {
   "cell_type": "markdown",
   "id": "95c0eadc",
   "metadata": {},
   "source": [
    "## lets insert the data now"
   ]
  },
  {
   "cell_type": "code",
   "execution_count": 59,
   "id": "63e9495a",
   "metadata": {},
   "outputs": [],
   "source": [
    "try:\n",
    "    cur.execute(\"insert into high_risk_patient_table(rest_bp, cholestrol, thal_value) select * from (select rest_bp, choles, \\\n",
    "    state_defect from heart where rest_bp>160 and choles>197 and state_defect>2) a;\")\n",
    "except ps.Error as e:\n",
    "    print(\"Error : could not create the table\")\n",
    "    print(e)"
   ]
  },
  {
   "cell_type": "code",
   "execution_count": 60,
   "id": "2e932e55",
   "metadata": {},
   "outputs": [
    {
     "name": "stdout",
     "output_type": "stream",
     "text": [
      "(178, 228, 3)\n",
      "(170, 288, 3)\n",
      "(170, 326, 3)\n",
      "(192, 283, 3)\n",
      "(170, 326, 3)\n",
      "(200, 288, 3)\n",
      "(165, 289, 3)\n",
      "(170, 227, 3)\n",
      "(178, 228, 3)\n",
      "(170, 227, 3)\n"
     ]
    }
   ],
   "source": [
    "try:\n",
    "    cur.execute(\"select * from high_risk_patient_table limit 10;\")\n",
    "except ps.Error as e:\n",
    "    print(\"Error : could not insert the values\")\n",
    "    print(e)\n",
    "    \n",
    "row = cur.fetchone()\n",
    "while row:\n",
    "    print(row)\n",
    "    row = cur.fetchone()"
   ]
  },
  {
   "cell_type": "markdown",
   "id": "3746d045",
   "metadata": {},
   "source": [
    "## So we have made a decent attempt where we made few lookup tables so that it becomes easy to refer the data by joining the main table 'heart' with the appropriate lookup table  and also if we have derived a table from the main table 'high_risk_patient_table' where we see those patients who have high risk of heart disease.\n",
    "\n",
    "Lets close the connection now"
   ]
  },
  {
   "cell_type": "code",
   "execution_count": 61,
   "id": "7b278721",
   "metadata": {},
   "outputs": [],
   "source": [
    "cur.close()\n",
    "conn.close()"
   ]
  }
 ],
 "metadata": {
  "kernelspec": {
   "display_name": "Python 3 (ipykernel)",
   "language": "python",
   "name": "python3"
  },
  "language_info": {
   "codemirror_mode": {
    "name": "ipython",
    "version": 3
   },
   "file_extension": ".py",
   "mimetype": "text/x-python",
   "name": "python",
   "nbconvert_exporter": "python",
   "pygments_lexer": "ipython3",
   "version": "3.7.0"
  }
 },
 "nbformat": 4,
 "nbformat_minor": 5
}
